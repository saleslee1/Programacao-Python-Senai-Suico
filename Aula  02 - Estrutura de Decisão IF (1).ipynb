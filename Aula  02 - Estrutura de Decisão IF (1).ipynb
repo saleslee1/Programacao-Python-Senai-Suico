{
 "cells": [
  {
   "cell_type": "markdown",
   "id": "5cf278d2",
   "metadata": {},
   "source": [
    "### Exercício 01 \n",
    "Crie uma variável chamada \"idade\" e atribua um valor inteiro a ela. Verifique se a idade é maior ou igual a 18 e imprima \"Maior de idade\" ou \"Menor de idade\" de acordo com a condição.\n"
   ]
  },
  {
   "cell_type": "code",
   "execution_count": null,
   "id": "2273f034",
   "metadata": {},
   "outputs": [],
   "source": [
    "idade = input (' informe sua idade: ')\n",
    "idade = int (idade)\n",
    "if idade < 18:\n",
    "    print ('menor de idade')\n",
    "else:\n",
    "    print ('maior de idade')\n",
    "    # nao pode esquecer de dar o tab no print e colocar os : no If e no else.\n",
    "    "
   ]
  },
  {
   "cell_type": "markdown",
   "id": "3853ff74",
   "metadata": {},
   "source": [
    "### Exercício 02 \n",
    "Crie uma variável chamada \"número\" e atribua um valor inteiro a ela. Verifique se o número é positivo, negativo ou zero e imprima a mensagem correspondente."
   ]
  },
  {
   "cell_type": "code",
   "execution_count": null,
   "id": "c56d339c",
   "metadata": {},
   "outputs": [],
   "source": [
    "num = input('digite o numero inteiro: ')\n",
    "num = int (num)\n",
    "if num >= 0:\n",
    "    print(' positivo')\n",
    "else:\n",
    "    print ( 'negativo')\n",
    "    \n",
    "    \n",
    "## prestar atencao no enuciado da questao.\n",
    "## olhar se tiver mais de 2 opcoes para dar usar o elif como segunda condição,\n",
    "## e usar o else so no final. teste no segundo quadrado.\n",
    "        "
   ]
  },
  {
   "cell_type": "code",
   "execution_count": null,
   "id": "3c9c22f7",
   "metadata": {},
   "outputs": [],
   "source": [
    "num = input('digite o numero inteiro: ')\n",
    "num = int (num)\n",
    "if num > 0:\n",
    "    print('positivo')\n",
    "elif num < 0:\n",
    "    print('negativo')\n",
    "else:\n",
    "    print ('nulo')\n",
    "  "
   ]
  },
  {
   "cell_type": "markdown",
   "id": "4652d550",
   "metadata": {},
   "source": [
    "### Exercício 03 \n",
    "Crie duas variáveis, \"nota1\" e \"nota2\", e atribua valores numéricos a elas. Verifique se a média das notas é maior ou igual a 7 e imprima \"Aprovado\" ou \"Reprovado\" de acordo com a condição."
   ]
  },
  {
   "cell_type": "code",
   "execution_count": null,
   "id": "9a23298e",
   "metadata": {},
   "outputs": [],
   "source": [
    "nota1= input ('informe a nota1: ')\n",
    "nota1= float (nota1)\n",
    "\n",
    "nota2= input('informe a nota2: ')\n",
    "nota2=float (nota2)\n",
    "\n",
    "media = (nota1 + nota2)/2\n",
    "if media >= 7:\n",
    "    print (f'Aprovado! Sua nota final foi {media}, PARABENS.')\n",
    "elif media <7:\n",
    "    print( f'Reprovado!Sua nota final foi {media}, SOFRA.')\n",
    "## quando utilizar o F ele muda e puxa a variavel direto,\n",
    "##porem precisa colocar o f no comeco da frase e utilizar {}\n",
    "##entre a variavel que dexaja puxar."
   ]
  },
  {
   "cell_type": "markdown",
   "id": "eadf5b87",
   "metadata": {},
   "source": [
    "### Exercício 04 \n",
    "Crie uma variável chamada \"idade\" e atribua um valor inteiro a ela. Verifique se a idade está dentro do intervalo de 18 a 30 (inclusive) e imprima a mensagem \"Idade válida\" ou \"Idade inválida\" de acordo com a condição."
   ]
  },
  {
   "cell_type": "code",
   "execution_count": null,
   "id": "5a25e9fc",
   "metadata": {},
   "outputs": [],
   "source": [
    "idade=int(input ('informe sua idade:'))\n",
    "\n",
    "if idade >=18 and idade <=30:\n",
    "    print('idade valida')\n",
    "else:\n",
    "    print ('idade invalida')\n",
    "## quando for usar intervalos entre numeros sempre utilizar o \"and\".\n",
    "##usar no meio da condicao entre eles.\n"
   ]
  },
  {
   "cell_type": "markdown",
   "id": "d3615e0e",
   "metadata": {},
   "source": [
    "### Exercício 05 \n",
    "Crie uma variável chamada \"numero\" e atribua um valor inteiro a ela. Verifique se o número é par ou ímpar e imprima a mensagem correspondente."
   ]
  },
  {
   "cell_type": "code",
   "execution_count": null,
   "id": "fc6042a3",
   "metadata": {},
   "outputs": [],
   "source": [
    "num= int(input( 'informe o numero: '))\n",
    "\n",
    "if num %2 == 0:\n",
    "    print( ' Numero Par')\n",
    "else:\n",
    "    print ('Numero Impar')\n",
    "    "
   ]
  },
  {
   "cell_type": "markdown",
   "id": "310d07cb",
   "metadata": {},
   "source": [
    "### Exercício 06 \n",
    "Crie uma variável chamada \"horario\" e atribua um valor inteiro representando a hora do dia (em formato 24 horas). Verifique se o horário está dentro do período da manhã (das 6h às 12h), da tarde (das 12h às 18h) ou da noite (das 18h às 23h) e imprima a mensagem correspondente."
   ]
  },
  {
   "cell_type": "code",
   "execution_count": null,
   "id": "81887696",
   "metadata": {},
   "outputs": [],
   "source": [
    "horario= int(input('informe um horario: '))\n",
    "\n",
    "if horario >= 6 and horario < 12:\n",
    "        print(' Boa Dia! <3 ')\n",
    "        \n",
    "elif horario >= 12 and horario < 18:\n",
    "    print('Boa Tarde')\n",
    "    \n",
    "elif horario >= 18 and horario < 23:\n",
    "    print ('Boa Noite')\n",
    "elif horario >= 0 and horario < 5:\n",
    "    print ('Boa Madrugada')\n",
    "else:\n",
    "    print ('horario invalido')"
   ]
  },
  {
   "cell_type": "markdown",
   "id": "cd0b3351",
   "metadata": {},
   "source": [
    "### Exercício 07 \n",
    "Crie uma variável chamada \"peso\" e atribua um valor numérico a ela. Verifique se o peso está dentro do intervalo de 50 a 100 (inclusive) e imprima a mensagem \"Peso válido\" ou \"Peso inválido\" de acordo com a condição."
   ]
  },
  {
   "cell_type": "code",
   "execution_count": null,
   "id": "e4bf40e5",
   "metadata": {},
   "outputs": [],
   "source": [
    "peso= float(input(' Digite seu peso'))\n",
    "\n",
    "if peso >=50 and peso <=100:\n",
    "    print ('Peso Valido')\n",
    "else:\n",
    "    print( 'peso invalido')"
   ]
  },
  {
   "cell_type": "markdown",
   "id": "915e0aac",
   "metadata": {},
   "source": [
    "### Exercício 08 \n",
    "Crie uma variável chamada \"numero\" e atribua um valor inteiro a ela. Verifique se o número é múltiplo de 3 e de 5 ao mesmo tempo e imprima a mensagem correspondente."
   ]
  },
  {
   "cell_type": "code",
   "execution_count": null,
   "id": "16ef0f5f",
   "metadata": {},
   "outputs": [],
   "source": [
    "num= int(input('insira o numero: '))\n",
    "\n",
    "if num %3 ==0 and num %5 ==0:\n",
    "    print (f'o numero {num} é multiplo de 3 e 5 ao mesmo tempo')\n",
    "else:\n",
    "    print(f' o numero {num} nao é multiplico de 3 e 5 ao mesmo tempo')\n",
    "\n"
   ]
  },
  {
   "cell_type": "markdown",
   "id": "d4555a82",
   "metadata": {},
   "source": [
    "### Exercício 09 \n",
    "Crie uma variável chamada \"ano\" e atribua um valor inteiro representando um ano. Verifique se o ano é bissexto (divisível por 4, mas não por 100, exceto se for divisível por 400) e imprima a mensagem correspondente"
   ]
  },
  {
   "cell_type": "code",
   "execution_count": null,
   "id": "dd50675c",
   "metadata": {},
   "outputs": [],
   "source": [
    "ano= int(input('Ano Correspondente: '))\n",
    "\n",
    "if ano %4 ==0 and ano % 100 !=0 or ano % 400 == 0:\n",
    "    print (f'Este ano {ano} é Bissexto!')\n",
    "else:\n",
    "    print(f'Este ano {ano} não é  bissexto!')\n",
    "    \n",
    "    ## ''!'' esse ponto diz que ele e diferente \n",
    "    ## '%' esse ponto diz que e o resto da divisão\n",
    "    ## '=='esse ponto segue que ele e igual. "
   ]
  },
  {
   "cell_type": "code",
   "execution_count": null,
   "id": "03eff640",
   "metadata": {},
   "outputs": [],
   "source": [
    "salario= float(input('Valor de salario: '))\n",
    "\n",
    "if salario > 1000 and salario < 2000:\n",
    "        print(f' O seu salario de {salario} é maior ')\n",
    "else:\n",
    "    print (' Esse valor nao e valido')\n",
    "    "
   ]
  },
  {
   "cell_type": "markdown",
   "id": "e26d02a4",
   "metadata": {},
   "source": [
    "### Exercício 11 \n",
    "Faça um Programa que peça dois números e imprima o maior deles."
   ]
  },
  {
   "cell_type": "code",
   "execution_count": null,
   "id": "250636a6",
   "metadata": {},
   "outputs": [],
   "source": [
    " num1= input( 'valor1: ')\n",
    "num2= input ('valor2: ')   \n",
    "\n",
    "if num1>num2:\n",
    "    print (num1)\n",
    "else:\n",
    "       print (num2)"
   ]
  },
  {
   "cell_type": "markdown",
   "id": "ef2d7363",
   "metadata": {},
   "source": [
    "### Exercício 12 \n",
    "Faça um Programa que peça um valor e mostre na tela se o valor é positivo ou negativo."
   ]
  },
  {
   "cell_type": "code",
   "execution_count": null,
   "id": "0615b01a",
   "metadata": {},
   "outputs": [],
   "source": [
    "valor1 = float(input('valor da peça 1:'))\n",
    "if valor1 > 0:\n",
    "    print ('O valor obtido é positivo')\n",
    "else:\n",
    "    print(' o Valor obtido é negativo')"
   ]
  },
  {
   "cell_type": "markdown",
   "id": "3a5adce5",
   "metadata": {},
   "source": [
    "### Exercício 13 \n",
    "Faça um Programa que verifique se uma letra digitada é \"F\" ou \"M\". Conforme a letra escrever: F - Feminino, M - Masculino, Sexo Inválido."
   ]
  },
  {
   "cell_type": "code",
   "execution_count": null,
   "id": "33478f5e",
   "metadata": {},
   "outputs": [],
   "source": [
    "letra= input (  'digite o sexo f ou m:')\n",
    "\n",
    "if letra == ('f') or letra == ('feminina'):\n",
    "    print ('A letra desiguinada é Feminina')\n",
    "elif letra == ('m') or letra ==('masculina'):\n",
    "    print( 'a letra desiguinada é Masculina')\n",
    "else:\n",
    "    print (' caso a letra seja destinta, a mesma e nula') "
   ]
  },
  {
   "cell_type": "markdown",
   "id": "c1b40e18",
   "metadata": {},
   "source": [
    "### Exercício 16 \n",
    "Faça um Programa que leia três números e mostre o maior deles."
   ]
  },
  {
   "cell_type": "code",
   "execution_count": null,
   "id": "6b8107e5",
   "metadata": {},
   "outputs": [],
   "source": [
    "num1 = int(input('digite o primeiro valor: '))\n",
    "num2 = int(input('digite o primeiro valor: '))\n",
    "num3 = int(input('digite o primeiro valor: '))\n",
    "\n",
    "# avalianado o numero 1\n",
    "\n",
    "if(num1 > num2) and (num1 > num3):\n",
    "    if(num2 > num3):\n",
    "        print('-----------------------------')\n",
    "        print('o primeiro maior valor é: ', num1)\n",
    "        print('o segundo maior valor é: ', num2)\n",
    "        print('o terceiro maior valor é: ', num3)\n",
    "        print('-----------------------------')\n",
    "                \n",
    "    else:\n",
    "        print('------------------------------')\n",
    "        print('o primeiro maior valor é: ', num1)\n",
    "        print('o segundo maior valor é: ', num3)\n",
    "        print('o terceiro maior valor é: ', num2)\n",
    "        print('-----------------------------')\n",
    "        \n",
    "        # avalianado o numero 2\n",
    "elif(num2 > num1) and (num2 > num3):\n",
    "    if (num1 > num3):\n",
    "       \n",
    "        print('------------------------------')\n",
    "        print('o primeiro maior valor é: ', num2)\n",
    "        print('o segundo maior valor é: ', num1)\n",
    "        print('o terceiro maior valor é: ', num3)\n",
    "        print('-----------------------------')\n",
    "    else:\n",
    "       \n",
    "        print('------------------------------')\n",
    "        print('o primeiro maior valor é: ', num2)\n",
    "        print('o segundo maior valor é: ', num3)\n",
    "        print('o terceiro maior valor é: ', num1)\n",
    "        print('-----------------------------')\n",
    "      # avalianado o numero 3\n",
    "    \n",
    "elif(num3> num1) and ( num3 > num2):\n",
    "    if (num1 > num2):\n",
    "        \n",
    "        print('------------------------------')\n",
    "        print('o primeiro maior valor é: ', num3)\n",
    "        print('o segundo maior valor é: ', num1)\n",
    "        print('o terceiro maior valor é: ', num2)\n",
    "        print('-----------------------------')\n",
    "    else:\n",
    "        print(num3, num2, num1)\n",
    "        print('------------------------------')\n",
    "        print('o primeiro maior valor é: ', num3)\n",
    "        print('o segundo maior valor é: ', num2)\n",
    "        print('o terceiro maior valor é: ', num1)\n",
    "        print('-----------------------------')\n",
    "     \n",
    "            \n",
    "    "
   ]
  },
  {
   "cell_type": "markdown",
   "id": "873654e1",
   "metadata": {},
   "source": [
    "### Exercício 17 \n",
    "Faça um Programa que leia três números e mostre o maior e o menor deles."
   ]
  },
  {
   "cell_type": "code",
   "execution_count": null,
   "id": "6350c8c6",
   "metadata": {},
   "outputs": [],
   "source": [
    "num1 = int(input(' Digite o primeiro valor:'))\n",
    "num2 = int(input(' Digite o segundo valor :'))\n",
    "num3 = int(input(' Digite o terceiro valor: '))\n",
    "# avaliando o Num1\n",
    "\n",
    "if (num1 > num2) and ( num1 > num3):\n",
    "    if num2 > num3:\n",
    "        print('-------------------------')\n",
    "        print('o primeiro maior valor é: ', num1)\n",
    "        print(' o segundo maior valor é: ', num2)\n",
    "        print(' o menor valor é: ', num3)\n",
    "        print('--------------------------------')\n",
    "    else:\n",
    "        print('------------------------------')\n",
    "        print('o primeiro maior valor é: ', num1)\n",
    "        print('o segundo maior valor é: ', num3)\n",
    "        print('o menor  valor é: ', num2)\n",
    "        print('-----------------------------')\n",
    "if (num2 > num1) and ( num2 > num3):\n",
    "    if num1 > num3:\n",
    "        print('-----------------')\n",
    "        print(' o primeiro maior valor é: ',num2)\n",
    "        print(' o menor valor é: ', num3)\n",
    "    else:\n",
    "        print(' o primeiro maior valor: ', num2)\n",
    "        print('o menor valor é: ', num1)\n",
    "if ( num3 > num1) and (num3 > num2):\n",
    "    if num1 > num2:\n",
    "        print(' o primeiro maior valor: ', num3)\n",
    "        print('o menor valor é: ',num2)\n",
    "    else:\n",
    "        print('o primeiro maior valor: ', num3)\n",
    "        print('o menor valor é: ', num1)\n",
    "        "
   ]
  },
  {
   "cell_type": "markdown",
   "id": "6592e1f2",
   "metadata": {},
   "source": [
    "### Exercício 18\n",
    "Faça um programa que pergunte o preço de três produtos e informe qual produto você deve comprar, sabendo que a decisão é sempre pelo mais barato."
   ]
  },
  {
   "cell_type": "code",
   "execution_count": null,
   "id": "3ceb19d8",
   "metadata": {},
   "outputs": [],
   "source": [
    "num1 = int(input('Digite o primeiro Valor: '))\n",
    "num2 = int(input('Digite o segundo Valor: '))\n",
    "num3 = int(input('Digite o terceiro Valor: '))\n",
    "\n",
    "if (num1 > num2) and (num1 > num3):\n",
    "    if num2 > num3:\n",
    "        \n",
    "        print(' o valor mais barato: ', num3)\n",
    "    else:\n",
    "        \n",
    "        print('o valor mais enconta é: ',num3)\n",
    "elif (num2 > num1) and ( num2 > num3):\n",
    "    if num1 > num3:\n",
    "       \n",
    "        print('o valor mais enconta é: ', num3)\n",
    "    else:\n",
    "        \n",
    "        print('o valor mais enconta é: ', num3)\n",
    "elif (num3 > num1) and (num3 > num2):\n",
    "    if num1 > num2:\n",
    "       \n",
    "        print('o valor mais enconta é: ', num2)\n",
    "    else:\n",
    "        \n",
    "        print('o valor mais enconta é: ',num2)"
   ]
  },
  {
   "cell_type": "markdown",
   "id": "c60722a4",
   "metadata": {},
   "source": [
    "### Exercício 21 \n",
    "As Organizações Tabajara resolveram dar um aumento de salário aos seus colaboradores e lhe contaram para desenvolver o programa que calculará os reajustes. Faça um programa que recebe o salário de um colaborador e o reajuste segundo o seguinte critério, baseado no salário atual:\n",
    "\n",
    "salários até R$ 280,00 (incluindo) : aumento de 20%\n",
    "\n",
    "salários entre R$ 280,00 e R$ 700,00 : aumento de 15%\n",
    "\n",
    "salários entre R$ 700,00 e R$ 1500,00 : aumento de 10%\n",
    "\n",
    "salários de R$ 1500,00 em diante : aumento de 5%\n",
    "Após o aumento ser realizado, informe na tela:\n",
    "\n",
    "salário antes do reajuste;\n",
    "\n",
    "percentual de aumento aplicado;\n",
    "\n",
    "valor do aumento;\n",
    "\n",
    "novo salário, após o aumento."
   ]
  },
  {
   "cell_type": "code",
   "execution_count": null,
   "id": "2497acd5",
   "metadata": {},
   "outputs": [],
   "source": [
    "print ('------ Calculo de aumento salarial 2023---')\n",
    "salario = float(input('informe seu salario:'))\n",
    "print(('--------------------------------------------------'))\n",
    "# Definição do valor de aumento.\n",
    "if salario <= 280:\n",
    "     aumento = 0.2 \n",
    "    \n",
    "elif salario > 280 and salario <= 700:\n",
    "    aumento = 0.15\n",
    "    \n",
    "elif salario > 700 and salario <= 1500:\n",
    "    aumento = 0.1\n",
    "    \n",
    "else:\n",
    "    aumento = 0.05\n",
    " #-------------------------------calculando o valor do aumento e novo salario\n",
    "valor_aumento = salario * aumento\n",
    "novo_salario = salario + valor_aumento\n",
    "#-------------------------------Exibir os resultados para usuarios.\n",
    "print('o salario atual é R$: ',salario)\n",
    "print('o porcentual de aumento é: ',aumento * 100,'%')\n",
    "print('o valor do aumento é R$: ',valor_aumento)\n",
    "print('o seu novo salario é R$:' ,novo_salario)"
   ]
  },
  {
   "cell_type": "markdown",
   "id": "458a0d96",
   "metadata": {},
   "source": [
    "### Avaliação \n",
    "\n",
    "\n",
    "\n",
    "### Código 03 \n",
    "Escreva um programa que solicite ao usuário a idade de uma pessoa e verifique se ela é maior de idade (idade igual ou superior a 18) e se possui carteira de motorista. Em seguida, exiba a mensagem correspondente."
   ]
  },
  {
   "cell_type": "code",
   "execution_count": null,
   "id": "10f7fd60",
   "metadata": {},
   "outputs": [],
   "source": [
    "Pessoa = int(input('Digite sua idade: '))\n",
    "if Pessoa >= 18:\n",
    "    print('usuario maior de idade, Condutor Habilitado')\n",
    "    \n",
    "else:\n",
    "    print('Usuario menor de idade, condutor não Habilitado ')\n",
    "    "
   ]
  },
  {
   "cell_type": "markdown",
   "id": "96ec263c",
   "metadata": {},
   "source": [
    "### Código 08 \n",
    "Faça um Programa que leia três números e mostre o maior e o menor deles"
   ]
  },
  {
   "cell_type": "code",
   "execution_count": null,
   "id": "ec355093",
   "metadata": {},
   "outputs": [],
   "source": [
    "num1 = int(input(' Escreva o primeiro valor:'))\n",
    "num2 = int(input(' Escreva o segundo valor :'))\n",
    "num3 = int(input(' Escreva o terceiro valor: '))\n",
    "\n",
    "if (num1 > num2) and ( num1 > num3):\n",
    "    if num2 > num3: \n",
    "        print('o primeiro maior valor é: ', num1)\n",
    "        print(' o segundo maior valor é: ', num2)\n",
    "        print(' o menor valor é: ', num3) \n",
    "    else:\n",
    "        print('o primeiro maior valor é: ', num1)\n",
    "        print('o segundo maior valor é: ', num3)\n",
    "        print('o menor  valor é: ', num2)\n",
    "        \n",
    "if (num2 > num1) and ( num2 > num3):\n",
    "    if num1 > num3: \n",
    "        print(' o primeiro maior valor é: ',num2)\n",
    "        print(' o menor valor é: ', num3)\n",
    "    else:\n",
    "        print(' o primeiro maior valor: ', num2)\n",
    "        print('o menor valor é: ', num1)\n",
    "if ( num3 > num1) and (num3 > num2):\n",
    "    if num1 > num2:\n",
    "        print(' o primeiro maior valor: ', num3)\n",
    "        print('o menor valor é: ',num2)\n",
    "    else:\n",
    "        print('o primeiro maior valor: ', num3)\n",
    "        print('o menor valor é: ', num1)"
   ]
  },
  {
   "cell_type": "markdown",
   "id": "c4af04fe",
   "metadata": {},
   "source": [
    "### Código 01 \n",
    "Escreva um programa que solicite ao usuário um número inteiro e verifique se ele é um número positivo. Em seguida, exiba a mensagem correspondente."
   ]
  },
  {
   "cell_type": "code",
   "execution_count": 3,
   "id": "955e4e4d",
   "metadata": {},
   "outputs": [
    {
     "name": "stdout",
     "output_type": "stream",
     "text": [
      " Verifique se o numero é inteiro: 55\n",
      " Todo numero maior que Zero é positivo.\n"
     ]
    }
   ],
   "source": [
    "\n",
    "num = int(input(' Verifique se o numero é inteiro: '))\n",
    "if num > 0:\n",
    "   print(' Todo numero maior que Zero é positivo.')\n",
    "elif num < 0: \n",
    "   print('todo numero menor que zero é negativo. ')\n",
    "else:\n",
    "    print( 'Numero decimal sera Nulo')\n",
    "    "
   ]
  },
  {
   "cell_type": "markdown",
   "id": "629b9f1a",
   "metadata": {},
   "source": [
    "### Código 06\n",
    " Escreva um programa que solicite ao usuário o nome de um mês e verifique se ele corresponde a um mês de verão (dezembro, janeiro ou fevereiro). Em seguida, exiba a mensagem correspondente."
   ]
  },
  {
   "cell_type": "code",
   "execution_count": 2,
   "id": "bc9de89a",
   "metadata": {},
   "outputs": [
    {
     "name": "stdout",
     "output_type": "stream",
     "text": [
      " digite um Mês:jan\n",
      "mes do verao\n"
     ]
    }
   ],
   "source": [
    "mes = input(' digite um Mês:')\n",
    "\n",
    "if mes == 'dez' or mes == 'jan' or mes == 'fev':\n",
    "    print( 'mes do verao')\n",
    "else:\n",
    "    print ( 'meses nao compativeis' )\n",
    "    \n",
    "\n",
    "\n"
   ]
  },
  {
   "cell_type": "markdown",
   "id": "b739acb4",
   "metadata": {},
   "source": [
    "### Código 04 \n",
    "Escreva um programa que solicite ao usuário um número inteiro e verifique se ele é um número perfeito. Um número perfeito é aquele cuja soma dos seus divisores (excluindo ele mesmo) é igual ao próprio número. Por exemplo, 6 é um número perfeito, pois seus divisores são 1, 2 e 3, e 1 + 2 + 3 = 6."
   ]
  },
  {
   "cell_type": "code",
   "execution_count": 6,
   "id": "7d05e594",
   "metadata": {},
   "outputs": [
    {
     "name": "stdout",
     "output_type": "stream",
     "text": [
      " digite o valor para verificar se é um numero perfeito:6\n",
      "o numero 6 nao é um numero perfeito.\n"
     ]
    }
   ],
   "source": [
    "num = int(input(' digite o valor para verificar se é um numero perfeito:'))\n",
    "# esse codigo considera apenas o numero 6\n",
    "\n",
    "soma_divisores = 0\n",
    "\n",
    "#verifica se o numero e divisivel por 2\n",
    "if (num % 2) == 0:\n",
    "        soma_divisoes = soma_divisores + 2\n",
    "        \n",
    "#verifique se o numero e divisilvel por\n",
    "if (num % 3) == 0:\n",
    "    soma_divisores = soma_divisores + 3\n",
    "    \n",
    "if soma_divisores == num:\n",
    "    print(f'o numero {num} é um numero perfeito.')\n",
    "    \n",
    "else:\n",
    "    \n",
    "    print(f'o numero {num} nao é um numero perfeito.')\n",
    "    "
   ]
  },
  {
   "cell_type": "code",
   "execution_count": null,
   "id": "14d95c06",
   "metadata": {},
   "outputs": [],
   "source": []
  }
 ],
 "metadata": {
  "kernelspec": {
   "display_name": "Python 3 (ipykernel)",
   "language": "python",
   "name": "python3"
  },
  "language_info": {
   "codemirror_mode": {
    "name": "ipython",
    "version": 3
   },
   "file_extension": ".py",
   "mimetype": "text/x-python",
   "name": "python",
   "nbconvert_exporter": "python",
   "pygments_lexer": "ipython3",
   "version": "3.10.9"
  }
 },
 "nbformat": 4,
 "nbformat_minor": 5
}

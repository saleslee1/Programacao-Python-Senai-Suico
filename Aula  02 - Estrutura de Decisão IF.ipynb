{
 "cells": [
  {
   "cell_type": "markdown",
   "id": "1a963e06",
   "metadata": {},
   "source": [
    "### Exercício 01 \n",
    "Crie uma variável chamada \"idade\" e atribua um valor inteiro a ela. Verifique se a idade é maior ou igual a 18 e imprima \"Maior de idade\" ou \"Menor de idade\" de acordo com a condição.\n"
   ]
  },
  {
   "cell_type": "code",
   "execution_count": null,
   "id": "fdb1cbd0",
   "metadata": {},
   "outputs": [],
   "source": [
    "idade = input (' informe sua idade: ')\n",
    "idade = int (idade)\n",
    "if idade < 18:\n",
    "    print ('menor de idade')\n",
    "else:\n",
    "    print ('maior de idade')\n",
    "    # nao pode esquecer de dar o tab no print e colocar os : no If e no else.\n",
    "    "
   ]
  },
  {
   "cell_type": "markdown",
   "id": "2fc7c8c7",
   "metadata": {},
   "source": [
    "### Exercício 02 \n",
    "Crie uma variável chamada \"número\" e atribua um valor inteiro a ela. Verifique se o número é positivo, negativo ou zero e imprima a mensagem correspondente."
   ]
  },
  {
   "cell_type": "code",
   "execution_count": null,
   "id": "5dfa4d32",
   "metadata": {},
   "outputs": [],
   "source": [
    "num = input('digite o numero inteiro: ')\n",
    "num = int (num)\n",
    "if num >= 0:\n",
    "    print(' positivo')\n",
    "else:\n",
    "    print ( 'negativo')\n",
    "    \n",
    "    \n",
    "## prestar atencao no enuciado da questao.\n",
    "## olhar se tiver mais de 2 opcoes para dar usar o elif como segunda condição,\n",
    "## e usar o else so no final. teste no segundo quadrado.\n",
    "        "
   ]
  },
  {
   "cell_type": "code",
   "execution_count": null,
   "id": "3a7fb9fe",
   "metadata": {},
   "outputs": [],
   "source": [
    "num = input('digite o numero inteiro: ')\n",
    "num = int (num)\n",
    "if num > 0:\n",
    "    print('positivo')\n",
    "elif num < 0:\n",
    "    print('negativo')\n",
    "else:\n",
    "    print ('nulo')\n",
    "  "
   ]
  },
  {
   "cell_type": "markdown",
   "id": "afe19c11",
   "metadata": {},
   "source": [
    "### Exercício 03 \n",
    "Crie duas variáveis, \"nota1\" e \"nota2\", e atribua valores numéricos a elas. Verifique se a média das notas é maior ou igual a 7 e imprima \"Aprovado\" ou \"Reprovado\" de acordo com a condição."
   ]
  },
  {
   "cell_type": "code",
   "execution_count": null,
   "id": "03239419",
   "metadata": {},
   "outputs": [],
   "source": [
    "nota1= input ('informe a nota1: ')\n",
    "nota1= float (nota1)\n",
    "\n",
    "nota2= input('informe a nota2: ')\n",
    "nota2=float (nota2)\n",
    "\n",
    "media = (nota1 + nota2)/2\n",
    "if media >= 7:\n",
    "    print (f'Aprovado! Sua nota final foi {media}, PARABENS.')\n",
    "elif media <7:\n",
    "    print( f'Reprovado!Sua nota final foi {media}, SOFRA.')\n",
    "## quando utilizar o F ele muda e puxa a variavel direto,\n",
    "##porem precisa colocar o f no comeco da frase e utilizar {}\n",
    "##entre a variavel que dexaja puxar."
   ]
  },
  {
   "cell_type": "markdown",
   "id": "73838eb8",
   "metadata": {},
   "source": [
    "### Exercício 04 \n",
    "Crie uma variável chamada \"idade\" e atribua um valor inteiro a ela. Verifique se a idade está dentro do intervalo de 18 a 30 (inclusive) e imprima a mensagem \"Idade válida\" ou \"Idade inválida\" de acordo com a condição."
   ]
  },
  {
   "cell_type": "code",
   "execution_count": null,
   "id": "7418d5df",
   "metadata": {},
   "outputs": [],
   "source": [
    "idade=int(input ('informe sua idade:'))\n",
    "\n",
    "if idade >=18 and idade <=30:\n",
    "    print('idade valida')\n",
    "else:\n",
    "    print ('idade invalida')\n",
    "## quando for usar intervalos entre numeros sempre utilizar o \"and\".\n",
    "##usar no meio da condicao entre eles.\n"
   ]
  },
  {
   "cell_type": "markdown",
   "id": "4eaf0cbc",
   "metadata": {},
   "source": [
    "### Exercício 05 \n",
    "Crie uma variável chamada \"numero\" e atribua um valor inteiro a ela. Verifique se o número é par ou ímpar e imprima a mensagem correspondente."
   ]
  },
  {
   "cell_type": "code",
   "execution_count": null,
   "id": "1fafdfed",
   "metadata": {},
   "outputs": [],
   "source": [
    "num= int(input( 'informe o numero: '))\n",
    "\n",
    "if num %2 == 0:\n",
    "    print( ' Numero Par')\n",
    "else:\n",
    "    print ('Numero Impar')\n",
    "    "
   ]
  },
  {
   "cell_type": "markdown",
   "id": "af430257",
   "metadata": {},
   "source": [
    "### Exercício 06 \n",
    "Crie uma variável chamada \"horario\" e atribua um valor inteiro representando a hora do dia (em formato 24 horas). Verifique se o horário está dentro do período da manhã (das 6h às 12h), da tarde (das 12h às 18h) ou da noite (das 18h às 23h) e imprima a mensagem correspondente."
   ]
  },
  {
   "cell_type": "code",
   "execution_count": null,
   "id": "645a5760",
   "metadata": {},
   "outputs": [],
   "source": [
    "horario= int(input('informe um horario: '))\n",
    "\n",
    "if horario >= 6 and horario < 12:\n",
    "        print(' Boa Dia! <3 ')\n",
    "        \n",
    "elif horario >= 12 and horario < 18:\n",
    "    print('Boa Tarde')\n",
    "    \n",
    "elif horario >= 18 and horario < 23:\n",
    "    print ('Boa Noite')\n",
    "elif horario >= 0 and horario < 5:\n",
    "    print ('Boa Madrugada')\n",
    "else:\n",
    "    print ('horario invalido')"
   ]
  },
  {
   "cell_type": "markdown",
   "id": "346d5a48",
   "metadata": {},
   "source": [
    "### Exercício 07 \n",
    "Crie uma variável chamada \"peso\" e atribua um valor numérico a ela. Verifique se o peso está dentro do intervalo de 50 a 100 (inclusive) e imprima a mensagem \"Peso válido\" ou \"Peso inválido\" de acordo com a condição."
   ]
  },
  {
   "cell_type": "code",
   "execution_count": null,
   "id": "139cdb3f",
   "metadata": {},
   "outputs": [],
   "source": [
    "peso= float(input(' Digite seu peso'))\n",
    "\n",
    "if peso >=50 and peso <=100:\n",
    "    print ('Peso Valido')\n",
    "else:\n",
    "    print( 'peso invalido')"
   ]
  },
  {
   "cell_type": "markdown",
   "id": "6dcbb346",
   "metadata": {},
   "source": [
    "### Exercício 08 \n",
    "Crie uma variável chamada \"numero\" e atribua um valor inteiro a ela. Verifique se o número é múltiplo de 3 e de 5 ao mesmo tempo e imprima a mensagem correspondente."
   ]
  },
  {
   "cell_type": "code",
   "execution_count": null,
   "id": "b0ff5ebd",
   "metadata": {},
   "outputs": [],
   "source": [
    "num= int(input('insira o numero: '))\n",
    "\n",
    "if num %3 ==0 and num %5 ==0:\n",
    "    print (f'o numero {num} é multiplo de 3 e 5 ao mesmo tempo')\n",
    "else:\n",
    "    print(f' o numero {num} nao é multiplico de 3 e 5 ao mesmo tempo')\n",
    "\n"
   ]
  },
  {
   "cell_type": "markdown",
   "id": "f963eb3b",
   "metadata": {},
   "source": [
    "### Exercício 09 \n",
    "Crie uma variável chamada \"ano\" e atribua um valor inteiro representando um ano. Verifique se o ano é bissexto (divisível por 4, mas não por 100, exceto se for divisível por 400) e imprima a mensagem correspondente"
   ]
  },
  {
   "cell_type": "code",
   "execution_count": null,
   "id": "d74801cc",
   "metadata": {},
   "outputs": [],
   "source": [
    "ano= int(input('Ano Correspondente: '))\n",
    "\n",
    "if ano %4 ==0 and ano % 100 !=0 or ano % 400 == 0:\n",
    "    print (f'Este ano {ano} é Bissexto!')\n",
    "else:\n",
    "    print(f'Este ano {ano} não é  bissexto!')\n",
    "    \n",
    "    ## ''!'' esse ponto diz que ele e diferente \n",
    "    ## '%' esse ponto diz que e o resto da divisão\n",
    "    ## '=='esse ponto segue que ele e igual. "
   ]
  },
  {
   "cell_type": "code",
   "execution_count": null,
   "id": "bee32308",
   "metadata": {},
   "outputs": [],
   "source": [
    "salario= float(input('Valor de salario: '))\n",
    "\n",
    "if salario > 1000 and salario < 2000:\n",
    "        print(f' O seu salario de {salario} é maior ')\n",
    "else:\n",
    "    print (' Esse valor nao e valido')\n",
    "    "
   ]
  },
  {
   "cell_type": "markdown",
   "id": "202492ce",
   "metadata": {},
   "source": [
    "### Exercício 11 \n",
    "Faça um Programa que peça dois números e imprima o maior deles."
   ]
  },
  {
   "cell_type": "code",
   "execution_count": null,
   "id": "0dc40e49",
   "metadata": {},
   "outputs": [],
   "source": [
    " num1= input( 'valor1: ')\n",
    "num2= input ('valor2: ')   \n",
    "\n",
    "if num1>num2:\n",
    "    print (num1)\n",
    "else:\n",
    "       print (num2)"
   ]
  },
  {
   "cell_type": "markdown",
   "id": "ecb4f97b",
   "metadata": {},
   "source": [
    "### Exercício 12 \n",
    "Faça um Programa que peça um valor e mostre na tela se o valor é positivo ou negativo."
   ]
  },
  {
   "cell_type": "code",
   "execution_count": null,
   "id": "ce12b699",
   "metadata": {},
   "outputs": [],
   "source": [
    "valor1 = float(input('valor da peça 1:'))\n",
    "if valor1 > 0:\n",
    "    print ('O valor obtido é positivo')\n",
    "else:\n",
    "    print(' o Valor obtido é negativo')"
   ]
  },
  {
   "cell_type": "markdown",
   "id": "2a35a41c",
   "metadata": {},
   "source": [
    "### Exercício 13 \n",
    "Faça um Programa que verifique se uma letra digitada é \"F\" ou \"M\". Conforme a letra escrever: F - Feminino, M - Masculino, Sexo Inválido."
   ]
  },
  {
   "cell_type": "code",
   "execution_count": 12,
   "id": "591391d1",
   "metadata": {},
   "outputs": [
    {
     "name": "stdout",
     "output_type": "stream",
     "text": [
      "digite o sexo f ou m:f\n",
      "A letra desiguinada é Feminina\n"
     ]
    }
   ],
   "source": [
    "letra= input (  'digite o sexo f ou m:')\n",
    "\n",
    "if letra == ('f') or letra == feminina:\n",
    "    print ('A letra desiguinada é Feminina')\n",
    "elif letra == m or letra == masculina:\n",
    "    print( 'a letra desiguinada é Masculina')\n",
    "else:\n",
    "    print (' caso a letra seja destinta, a mesma e nula') "
   ]
  },
  {
   "cell_type": "code",
   "execution_count": null,
   "id": "b1adff0c",
   "metadata": {},
   "outputs": [],
   "source": []
  },
  {
   "cell_type": "code",
   "execution_count": null,
   "id": "2f01dc08",
   "metadata": {},
   "outputs": [],
   "source": []
  }
 ],
 "metadata": {
  "kernelspec": {
   "display_name": "Python 3 (ipykernel)",
   "language": "python",
   "name": "python3"
  },
  "language_info": {
   "codemirror_mode": {
    "name": "ipython",
    "version": 3
   },
   "file_extension": ".py",
   "mimetype": "text/x-python",
   "name": "python",
   "nbconvert_exporter": "python",
   "pygments_lexer": "ipython3",
   "version": "3.10.9"
  }
 },
 "nbformat": 4,
 "nbformat_minor": 5
}

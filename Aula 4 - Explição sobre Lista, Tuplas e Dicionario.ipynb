{
 "cells": [
  {
   "cell_type": "code",
   "execution_count": null,
   "id": "95ea7762",
   "metadata": {},
   "outputs": [],
   "source": [
    "alunos = ['Amanda', 'Ana', 'Bruno', 'Joao']\n",
    "notas = [10,8.8,7.8,8.0]\n",
    "\n",
    "alunos[3] # Retornar um elemento da lista\n",
    "# lista sempre começa em 0\n",
    "\n",
    "#berificando o tipo de dado.\n",
    "print(type(alunos))\n",
    "print(type(notas))\n",
    "\n",
    "#adicionar um novo aluno\n",
    "alunos.append ('Leandro')\n",
    "alunos \n",
    "\n",
    "#remover um elemento\n",
    "alunos.remove('Joao')\n",
    "alunos "
   ]
  },
  {
   "cell_type": "markdown",
   "id": "959b2bd1",
   "metadata": {},
   "source": [
    "\n",
    "\n",
    "\n",
    "# Tuplas"
   ]
  },
  {
   "cell_type": "code",
   "execution_count": null,
   "id": "ba4905f1",
   "metadata": {},
   "outputs": [],
   "source": [
    "valores = (90,79,54,32,21)\n",
    "pontos = (100,94.05,86,62)\n",
    "\n"
   ]
  },
  {
   "cell_type": "code",
   "execution_count": 6,
   "id": "1ef3bbd8",
   "metadata": {},
   "outputs": [
    {
     "name": "stdout",
     "output_type": "stream",
     "text": [
      "Voce nao pode modificar uma tupla\n"
     ]
    }
   ],
   "source": [
    "my_list= [1,2] # criando uma lista\n",
    "\n",
    "my_tuple= (1,2) #criando uma tuple \n",
    "\n",
    "other_tuple= (3,4)#criando uma tupla\n",
    "\n",
    "my_list [1]= 3 #Substituindo um elemento de uma lista\n",
    "\n",
    "try:\n",
    "    my_tuple[1] = 3 \n",
    "except TypeError:\n",
    "    print('Voce nao pode modificar uma tupla')"
   ]
  },
  {
   "cell_type": "code",
   "execution_count": 7,
   "id": "b3e5799e",
   "metadata": {},
   "outputs": [
    {
     "name": "stdout",
     "output_type": "stream",
     "text": [
      "Voce nao pode modificar uma tupla\n"
     ]
    }
   ],
   "source": [
    "#tratamento de erro vai executar as acoes do bloco TRY, caso nao haja erro\n",
    "#Se houver um erro, ele vai executar acoes do bloco Except TypeError\n",
    "try:\n",
    "    my_tuple[1] = 3 \n",
    "except TypeError:\n",
    "    print('Voce nao pode modificar uma tupla')"
   ]
  },
  {
   "cell_type": "code",
   "execution_count": null,
   "id": "417a7d43",
   "metadata": {},
   "outputs": [],
   "source": [
    "def sum_and_product (x,y):\n",
    "    return(x+y), (x*y)\n",
    "\n",
    "sum_and_product (10,2)"
   ]
  },
  {
   "cell_type": "code",
   "execution_count": 8,
   "id": "6d7441a8",
   "metadata": {},
   "outputs": [
    {
     "data": {
      "text/plain": [
       "15"
      ]
     },
     "execution_count": 8,
     "metadata": {},
     "output_type": "execute_result"
    }
   ],
   "source": [
    "def sum_and_product (x,y):\n",
    "    return(x+y), (x*y)\n",
    "\n",
    "sp= sum_and_product (5,6)# sp é 5 6\n",
    "\n",
    "s, p = sum_and_product(5,10)# s é 15, p é 50\n",
    "s"
   ]
  },
  {
   "cell_type": "markdown",
   "id": "d348a677",
   "metadata": {},
   "source": [
    "# Dicionários"
   ]
  },
  {
   "cell_type": "code",
   "execution_count": 10,
   "id": "8277c109",
   "metadata": {},
   "outputs": [
    {
     "name": "stdout",
     "output_type": "stream",
     "text": [
      "A altura do joao é:  1.7\n",
      " o pesoda Ana é:  86\n"
     ]
    }
   ],
   "source": [
    "altura = {'Amanda': 1.65,'Ana':1.60, 'Joao':1.70}\n",
    "peso= {'Amanda': 65,'Ana':86,'Joao':170}\n",
    "\n",
    "print( 'A altura do joao é: ' , altura ['Joao'])\n",
    "print(' o pesoda Ana é: ', peso['Ana'])"
   ]
  },
  {
   "cell_type": "code",
   "execution_count": 15,
   "id": "53aa0b79",
   "metadata": {},
   "outputs": [
    {
     "data": {
      "text/plain": [
       "{'nome': 'Ana',\n",
       " 'idade': 27,\n",
       " 'fruta': 'acabaxi',\n",
       " 'Cor': 'Roxo',\n",
       " 'sobrenome': 'gomes'}"
      ]
     },
     "execution_count": 15,
     "metadata": {},
     "output_type": "execute_result"
    }
   ],
   "source": [
    "cadastro = {'nome':'Tania',\n",
    "           'idade': 35,\n",
    "           'fruta':'Uva',\n",
    "           'Cor':'Roxo',\n",
    "           'musica': 'Forro'}\n",
    "# para inserir ou alterar dados colocar sempre o cadastro!!!!\n",
    "cadastro['fruta']= 'laranja'\n",
    "cadastro\n",
    "cadastro['sobrenome'] = 'gomes'\n",
    "cadastro \n",
    "del cadastro ['musica']\n",
    "cadastro \n",
    "\n",
    "cadastro.update({'nome':'Ana', 'idade': 27, 'fruta':'acabaxi'})\n",
    "cadastro"
   ]
  }
 ],
 "metadata": {
  "kernelspec": {
   "display_name": "Python 3 (ipykernel)",
   "language": "python",
   "name": "python3"
  },
  "language_info": {
   "codemirror_mode": {
    "name": "ipython",
    "version": 3
   },
   "file_extension": ".py",
   "mimetype": "text/x-python",
   "name": "python",
   "nbconvert_exporter": "python",
   "pygments_lexer": "ipython3",
   "version": "3.10.9"
  }
 },
 "nbformat": 4,
 "nbformat_minor": 5
}

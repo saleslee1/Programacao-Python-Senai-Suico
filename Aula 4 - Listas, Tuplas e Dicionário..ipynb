{
 "cells": [
  {
   "cell_type": "markdown",
   "id": "59092777",
   "metadata": {},
   "source": [
    "### Exercicio 1\n",
    "\n",
    "Crie uma lista com nomes de 4 times de futebol."
   ]
  },
  {
   "cell_type": "code",
   "execution_count": null,
   "id": "54b6e5d2",
   "metadata": {},
   "outputs": [],
   "source": [
    "times = ['Palmeiras','São Paulo', ' Santos', 'Água Santa']\n",
    "times [2]\n",
    "\n",
    "#Crie uma lista com duas listas de 3 times de futebol, cada uma de\n",
    "#uma divisão diferente.\n",
    "\n",
    "divisoes = [['A,','B','C','D']],['E','F','G','H']\n",
    "\n",
    "# quando for pegar alguma palavra no [] 2, precisa\n",
    "#colocar para buscar ela como no exemple de baixo.\n",
    "\n",
    "divisoes [1][0]\n",
    "\n"
   ]
  },
  {
   "cell_type": "markdown",
   "id": "f7260409",
   "metadata": {},
   "source": [
    "### Exercício 02 \n",
    "Crie uma lista com 3 diferentes moedas. Acrescente mais 2 outras moedas à essa mesma lista."
   ]
  },
  {
   "cell_type": "code",
   "execution_count": null,
   "id": "06e1b67a",
   "metadata": {},
   "outputs": [],
   "source": [
    "moeda = ['real','dolar','euro']\n",
    "moeda.append ('Cruzeiro')\n",
    "\n",
    "moeda.append ('Iene')\n",
    "moeda\n"
   ]
  },
  {
   "cell_type": "markdown",
   "id": "5bcf5e43",
   "metadata": {},
   "source": [
    "### Exercício 03 \n",
    "Crie uma string com a lista do exercício anterior."
   ]
  },
  {
   "cell_type": "code",
   "execution_count": null,
   "id": "8199165e",
   "metadata": {},
   "outputs": [],
   "source": [
    "moeda = ['real','dolar','euro']\n",
    "moeda.append ('Cruzeiro')\n",
    "\n",
    "moeda.append ('Iene')\n",
    "moeda\n",
    "#transformando a lista em uma string\n",
    "# utiliza-se o comando ()= ','.join()\n",
    "\n",
    "moeda= ','.join(moeda)\n",
    "moeda\n",
    "#transformar a string em uma lista \n",
    "#utliza-se  string.sprint('.')\n"
   ]
  },
  {
   "cell_type": "markdown",
   "id": "7ffb830f",
   "metadata": {},
   "source": [
    "### Exercício 04 \n",
    "Agora utilize a string do exercício 6 para recriar uma lista."
   ]
  },
  {
   "cell_type": "code",
   "execution_count": 4,
   "id": "25a3e9cf",
   "metadata": {},
   "outputs": [
    {
     "data": {
      "text/plain": [
       "list"
      ]
     },
     "execution_count": 4,
     "metadata": {},
     "output_type": "execute_result"
    }
   ],
   "source": [
    "moeda = ['real','dolar','euro']\n",
    "moeda.append ('Cruzeiro')\n",
    "\n",
    "moeda.append ('Iene')\n",
    "moeda\n",
    "moeda= ','.join(moeda)\n",
    "moeda\n",
    "#transformar a string em uma lista \n",
    "#utliza-se  o comando ()= .sprint('.')\n",
    "moeda= texto.split(',')\n",
    "type(moeda)\n"
   ]
  },
  {
   "cell_type": "code",
   "execution_count": null,
   "id": "8e3e96c9",
   "metadata": {},
   "outputs": [],
   "source": []
  }
 ],
 "metadata": {
  "kernelspec": {
   "display_name": "Python 3 (ipykernel)",
   "language": "python",
   "name": "python3"
  },
  "language_info": {
   "codemirror_mode": {
    "name": "ipython",
    "version": 3
   },
   "file_extension": ".py",
   "mimetype": "text/x-python",
   "name": "python",
   "nbconvert_exporter": "python",
   "pygments_lexer": "ipython3",
   "version": "3.10.9"
  }
 },
 "nbformat": 4,
 "nbformat_minor": 5
}

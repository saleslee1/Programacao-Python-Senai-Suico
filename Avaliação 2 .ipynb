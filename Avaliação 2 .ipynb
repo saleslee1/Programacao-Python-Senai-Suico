{
 "cells": [
  {
   "cell_type": "code",
   "execution_count": null,
   "id": "c408495a",
   "metadata": {},
   "outputs": [],
   "source": [
    "# questao 4 \n",
    "\n",
    "numeros = [1, 2, 3, 4, 5, 6, 7, 8, 9, 10]\n",
    "\n",
    "for num in numeros:\n",
    "    if num %2 == 0:\n",
    "        print(num)\n"
   ]
  },
  {
   "cell_type": "code",
   "execution_count": null,
   "id": "7e6e7e97",
   "metadata": {},
   "outputs": [],
   "source": [
    "soma =0 \n",
    "num =1 \n",
    "while num <=10:\n",
    "    soma+= num\n",
    "    num+= 1\n",
    "    \n",
    "print(soma)\n"
   ]
  },
  {
   "cell_type": "code",
   "execution_count": null,
   "id": "7108165c",
   "metadata": {},
   "outputs": [],
   "source": [
    "cores = {\n",
    "'vermelho': '#FF0000', \n",
    "'verde': '#00FF00', \n",
    "'azul': '#0000FF', \n",
    "'amarelo': '#FFFF00'\n",
    "} \n",
    "\n",
    "cores['verde']"
   ]
  },
  {
   "cell_type": "code",
   "execution_count": null,
   "id": "cf74aa8d",
   "metadata": {},
   "outputs": [],
   "source": []
  },
  {
   "cell_type": "code",
   "execution_count": null,
   "id": "934f8a35",
   "metadata": {},
   "outputs": [],
   "source": [
    "mes = input(' digite um Mês:')\n",
    "\n",
    "if mes == 'dez' or mes == 'jan' or mes == 'fev':\n",
    "    print( 'mes do verao')"
   ]
  },
  {
   "cell_type": "markdown",
   "id": "b16b9f8f",
   "metadata": {},
   "source": [
    "# Avaliação Pratica 2.\n"
   ]
  },
  {
   "cell_type": "markdown",
   "id": "ea060bcb",
   "metadata": {},
   "source": [
    "### Questão 01 \n",
    "Escreva um programa que exiba os números de 1 a 10 em ordem crescente."
   ]
  },
  {
   "cell_type": "code",
   "execution_count": null,
   "id": "9857c1bb",
   "metadata": {},
   "outputs": [],
   "source": [
    "lista= ['1','2','3','4','5','6','7','8','9','10']\n",
    "          \n",
    "\n",
    "for x in lista:\n",
    "    print(x)"
   ]
  },
  {
   "cell_type": "code",
   "execution_count": null,
   "id": "5197d96c",
   "metadata": {},
   "outputs": [],
   "source": [
    "### resolução professor\n",
    "numeros = range (1,11)\n",
    "lista= []\n",
    "\n",
    "\n",
    "for x in numeros:\n",
    "    lista.append(x)\n",
    "\n",
    "    \n",
    "print(lista)\n",
    "#------------------------------------------------------------------\n",
    "i = 0\n",
    "while i <=9:\n",
    "    i= i + 1\n",
    "    print(i)"
   ]
  },
  {
   "cell_type": "markdown",
   "id": "bb421c12",
   "metadata": {},
   "source": [
    "### Questão 02 \n",
    "Escreva um programa que calcule a média de uma lista de números. A lista deve conter pelo menos 5 números."
   ]
  },
  {
   "cell_type": "code",
   "execution_count": null,
   "id": "d51a8552",
   "metadata": {},
   "outputs": [],
   "source": [
    "lista= range (1,6)\n",
    "numero = []\n",
    "\n",
    "for x in lista:\n",
    "    num= int(input('digite os numeros: '))\n",
    "    numero.append (num)\n",
    "    \n",
    "print(x)"
   ]
  },
  {
   "cell_type": "code",
   "execution_count": null,
   "id": "e99ed3d3",
   "metadata": {},
   "outputs": [],
   "source": [
    "### professor \n",
    "\n",
    "numeros = 10,20,25,63,87\n",
    "soma = 0\n",
    "qtde_num = 0\n",
    "\n",
    "for x in numeros:\n",
    "    soma += x # soma = soma + x, isso e igual. \n",
    "    qtde_num += 1\n",
    "   \n",
    "media = soma/ qtde_num  \n",
    "print('A medica é: ', media )\n",
    "\n",
    "#------------------------\n",
    "#utilizando len\n",
    "\n",
    "\n",
    "soma = 0\n",
    "\n",
    "\n",
    "for x in numeros:\n",
    "    soma += x # soma = soma + x, isso e igual. \n",
    "    qtde_num += 1\n",
    "qtde = len (numeros) # retornar a qtde de itens de uma lista.    \n",
    "media = soma/ qtde_num  \n",
    "print('A media é: ', media )\n",
    "\n"
   ]
  },
  {
   "cell_type": "markdown",
   "id": "c3e6996c",
   "metadata": {},
   "source": [
    "### Questão 03\n",
    "Escreva um programa que gere a sequência de Fibonacci até o décimo termo. A sequência de Fibonacci é formada pela soma dos dois termos anteriores, começando com 0 e 1. A sequência fica assim: 0, 1, 1, 2, 3, 5, 8, 13, 21, 34..."
   ]
  },
  {
   "cell_type": "code",
   "execution_count": null,
   "id": "5b6171d8",
   "metadata": {},
   "outputs": [],
   "source": [
    "num= int(input('Digite o termos que necessite: '))\n",
    "\n",
    "numero = [1]\n",
    "i = 0\n",
    "while i<= num:\n",
    "    if numero [0] == 1  and i == 0:\n",
    "        numero.append(1)\n",
    "    else:\n",
    "        a = numero[i] + numero[ i-1]\n",
    "        numero.append(a)\n",
    "        print( 'Este temo nao pode ser gerado') \n",
    "        break\n",
    "        \n",
    "    i = i + 1 \n",
    "    \n",
    "print(numero)"
   ]
  },
  {
   "cell_type": "code",
   "execution_count": null,
   "id": "33bc1435",
   "metadata": {},
   "outputs": [],
   "source": [
    "#professor\n",
    "\n",
    "termos = 10\n",
    "serieF = [0]\n",
    "\n",
    "i= 0\n",
    "\n",
    "while i <= termos:\n",
    "    if len(serieF) == 10:\n",
    "        break\n",
    "    \n",
    "    if serieF [0] == 0 and i == 0:\n",
    "        serieF.append (1)\n",
    "    else:\n",
    "        a = serieF[i] + serieF [i-1]\n",
    "        serieF.append(a)\n",
    "        \n",
    "    i += 1\n",
    "print(serieF)"
   ]
  },
  {
   "cell_type": "markdown",
   "id": "73759ab0",
   "metadata": {},
   "source": [
    "### Questão 04 \n",
    "Escreva um programa que leia um número inteiro positivo n do usuário e exiba a soma de todos os números de 1 até n."
   ]
  },
  {
   "cell_type": "code",
   "execution_count": 1,
   "id": "37924949",
   "metadata": {},
   "outputs": [
    {
     "name": "stdout",
     "output_type": "stream",
     "text": [
      "Digite um numero inteiro: 10\n",
      "[1, 2, 3, 4, 5, 6, 7, 8, 9, 10]\n",
      "55\n",
      "---------------------------\n",
      "55\n"
     ]
    }
   ],
   "source": [
    "n = int(input('Digite um numero inteiro: ')) # o numeiro limite \n",
    "i = 0 \n",
    "lista = []\n",
    "\n",
    "while i <= n:\n",
    "    if i != 0:\n",
    "        lista.append(i)\n",
    "    i += 1 \n",
    "print(lista)\n",
    "\n",
    "soma = sum(lista)\n",
    "print(soma)\n",
    "#-----------------------------------\n",
    "print('---------------------------')\n",
    "\n",
    "i = 0 \n",
    "soma = 0\n",
    "\n",
    "while i <= n:\n",
    "    soma += i \n",
    "    i += 1\n",
    "    \n",
    "print(soma)\n",
    "\n"
   ]
  },
  {
   "cell_type": "markdown",
   "id": "b3385506",
   "metadata": {},
   "source": [
    "### Questão 05 \n",
    "Escreva um programa que receba uma lista de números do usuário e exiba apenas os números pares presentes na lista e sua respectiva quantidade."
   ]
  },
  {
   "cell_type": "code",
   "execution_count": null,
   "id": "93f0341a",
   "metadata": {},
   "outputs": [],
   "source": [
    "numeros =[]\n",
    "\n",
    "valor1 = int(input('digite um numero '))\n",
    "valor2 = int(input('digite um numero'))\n",
    "valor3 = int(input('digite um numero'))\n",
    "\n",
    "soma= valor1 + valor2 + valor3\n",
    "\n",
    "par = 0\n",
    "impar = 0 \n",
    "for x in numeros:\n",
    "    if x %2 ==0:\n",
    "        par = par + 1 \n",
    "  \n",
    "    print(soma)   \n",
    "    \n"
   ]
  },
  {
   "cell_type": "code",
   "execution_count": 18,
   "id": "bb960c2f",
   "metadata": {},
   "outputs": [
    {
     "name": "stdout",
     "output_type": "stream",
     "text": [
      "digite um valor, ou [ S] para sair: 10\n",
      "digite um valor, ou [ S] para sair: 10\n",
      "digite um valor, ou [ S] para sair: s\n",
      "[10, 10]\n",
      "existem 2 números pares nesta lista: \n"
     ]
    }
   ],
   "source": [
    "### professor \n",
    "resp =  input('digite um valor, ou [ S] para sair: ')\n",
    "lista = []\n",
    "\n",
    "numeros = []\n",
    "qtde =0 \n",
    "\n",
    "while resp.lower() !='s':\n",
    "    \n",
    "    \n",
    "    lista.append(int(resp))\n",
    "    resp = input ('digite um valor, ou [ S] para sair: ')\n",
    "    \n",
    "   \n",
    "   \n",
    "\n",
    "for x  in lista:\n",
    "    \n",
    "    if x%2 == 0 and x!= 0:\n",
    "        numeros.append (x)\n",
    "        qtde +=1\n",
    "    \n",
    "print(numeros)\n",
    "print(f'existem {qtde} números pares nesta lista: ')"
   ]
  },
  {
   "cell_type": "markdown",
   "id": "ef5c90d6",
   "metadata": {},
   "source": [
    "### Questão 06 \n",
    "Escreva um programa que leia uma lista de números do usuário e determine a soma, média, o maior valor e o menor valor da lista."
   ]
  },
  {
   "cell_type": "code",
   "execution_count": 19,
   "id": "b541dde2",
   "metadata": {},
   "outputs": [
    {
     "name": "stdout",
     "output_type": "stream",
     "text": [
      "digite um valor, ou [ S] para sair: 50\n",
      "digite um valor, ou [ S] para sair: 50\n",
      "digite um valor, ou [ S] para sair: s\n",
      "A soma é 100, a média é 50.0, o maior valor 50, menor valor 50: \n"
     ]
    }
   ],
   "source": [
    "resp =  input('digite um valor, ou [ S] para sair: ')\n",
    "lista = []\n",
    "\n",
    "numeros = []\n",
    "qtde =0 \n",
    "\n",
    "while resp.lower() !='s':\n",
    "    \n",
    "    \n",
    "    lista.append(int(resp))\n",
    "    resp = input ('digite um valor, ou [ S] para sair: ')\n",
    "    \n",
    "soma = sum (lista)\n",
    "media= soma/len(lista)\n",
    "maximo= max (lista)\n",
    "minimo= min(lista)\n",
    "\n",
    "print(f'A soma é {soma}, a média é {media}, o maior valor {maximo}, menor valor {minimo}: ')"
   ]
  },
  {
   "cell_type": "markdown",
   "id": "8868dc5a",
   "metadata": {},
   "source": [
    "### Questão 07 \n",
    "Escreva um programa que leia um número inteiro positivo n do usuário e exiba a tabuada de multiplicação desse número, do 1 ao 10."
   ]
  },
  {
   "cell_type": "code",
   "execution_count": null,
   "id": "510256e4",
   "metadata": {},
   "outputs": [],
   "source": [
    "print( 'Tabuada')\n",
    "num = int(input('Digite um valor para gerar a taboada'))\n",
    "\n",
    "multiplicadores = range (1,100)\n",
    "\n",
    "if num >= 1 and num<= 99:\n",
    "    print(F' tabuado do Número {num}')\n",
    "    \n",
    "for x in multiplicadores:\n",
    "    \n",
    "    resultado = num * x\n",
    "    print(f'{num} X {x} = {resultado}')\n",
    "    \n",
    "else:\n",
    "    print( 'Valor fora da faixa de especificção, Digite um numero entre 0 a 99')\n",
    "\n",
    "    \n"
   ]
  }
 ],
 "metadata": {
  "kernelspec": {
   "display_name": "Python 3 (ipykernel)",
   "language": "python",
   "name": "python3"
  },
  "language_info": {
   "codemirror_mode": {
    "name": "ipython",
    "version": 3
   },
   "file_extension": ".py",
   "mimetype": "text/x-python",
   "name": "python",
   "nbconvert_exporter": "python",
   "pygments_lexer": "ipython3",
   "version": "3.10.9"
  }
 },
 "nbformat": 4,
 "nbformat_minor": 5
}

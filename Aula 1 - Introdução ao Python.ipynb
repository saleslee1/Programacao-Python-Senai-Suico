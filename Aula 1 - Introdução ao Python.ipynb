{
 "cells": [
  {
   "cell_type": "markdown",
   "id": "9e2465d4",
   "metadata": {},
   "source": [
    "Exercício 01 – Crie um programa para receber dois valores e em seguida, exiba o valor da soma."
   ]
  },
  {
   "cell_type": "code",
   "execution_count": null,
   "id": "90c42f18",
   "metadata": {},
   "outputs": [],
   "source": [
    "valor1 = 10\n",
    "valor2 = 30\n",
    "soma = valor1 + valor2 \n",
    "print(soma)\n",
    "\n"
   ]
  },
  {
   "cell_type": "markdown",
   "id": "5433641c",
   "metadata": {},
   "source": [
    "Exercício 2 – Crie um programa para receber dois valores e em seguida, exiba o valor da diferença entre eles."
   ]
  },
  {
   "cell_type": "code",
   "execution_count": null,
   "id": "c5047933",
   "metadata": {},
   "outputs": [],
   "source": [
    "valor1 = 10\n",
    "valor2 = 5\n",
    "diferenca = valor1 - valor2\n",
    "print (diferenca)"
   ]
  },
  {
   "cell_type": "markdown",
   "id": "5eef9ab7",
   "metadata": {},
   "source": [
    "Exercício 03 – Crie um programa para receber dois valores e em seguida, exiba o produto entre eles."
   ]
  },
  {
   "cell_type": "code",
   "execution_count": null,
   "id": "a11a2cd2",
   "metadata": {},
   "outputs": [],
   "source": [
    "valor1 = 2\n",
    "valor2 = 3\n",
    "produto = valor1 * valor2 \n",
    "print('o resultado da multiplicacao é: ', produto)"
   ]
  },
  {
   "cell_type": "markdown",
   "id": "f9ce8775",
   "metadata": {},
   "source": [
    "Exercício 04 - Crie um programa para receber dois valores e em seguida, exiba o quociente entre eles."
   ]
  },
  {
   "cell_type": "code",
   "execution_count": null,
   "id": "a4579f51",
   "metadata": {},
   "outputs": [],
   "source": [
    "valor1 = 10\n",
    "valor2= 5 \n",
    "quociente = valor1 / valor2 \n",
    "#caulculo de divisao \n",
    "# calculo do resto\n",
    "resto = valor1 % valor2\n",
    "print( 'o resultado da divisao é: ', quociente)\n",
    "print( 'o resto da divisao é ', resto)"
   ]
  },
  {
   "cell_type": "markdown",
   "id": "094b9207",
   "metadata": {},
   "source": [
    "Exercício 10 - Faça um Programa que converta metros para centímetros."
   ]
  },
  {
   "cell_type": "code",
   "execution_count": null,
   "id": "a5c689b4",
   "metadata": {},
   "outputs": [],
   "source": [
    "#solicitar ao usuario um valor em metros \n",
    "\n",
    "metros = input('digite o valor em metros para converter em cm.')\n",
    "metros = int(metros)\n",
    "type(metros)\n",
    "\n",
    "centimetros = metros * 100 \n",
    "print(centimetros)"
   ]
  },
  {
   "cell_type": "markdown",
   "id": "50f99254",
   "metadata": {},
   "source": [
    "Exercício 11 - Faça um Programa que peça o raio de um círculo, calcule e mostre sua área."
   ]
  },
  {
   "cell_type": "code",
   "execution_count": null,
   "id": "511c1207",
   "metadata": {},
   "outputs": [],
   "source": [
    "\n",
    "import math\n",
    "\n",
    "raio = input(' informe o raio do circulo:')\n",
    "raio = float (raio) # pode ser um numero decimal\n",
    "\n",
    "pi = math.pi\n",
    "\n",
    "area = round( pi * raio ** 2, 3) \n",
    "print ( ' a area do circulo é; ', area)\n",
    "print( math.pi)\n",
    "\n"
   ]
  },
  {
   "cell_type": "markdown",
   "id": "9fd820f0",
   "metadata": {},
   "source": [
    "\n",
    "Exercício 12 - Faça um Programa que calcule a área de um quadrado, em seguida mostre o dobro desta área para o usuário.\n"
   ]
  },
  {
   "cell_type": "code",
   "execution_count": 7,
   "id": "286686cd",
   "metadata": {},
   "outputs": [
    {
     "name": "stdout",
     "output_type": "stream",
     "text": [
      "informe a area quadrado: 10\n",
      " a area do quadrado é: 100.0 mm²\n",
      " o dobro do quadrado é: 200.0 mm²\n"
     ]
    }
   ],
   "source": [
    "lado = input ('informe a area quadrado: ')\n",
    "lado = float ( lado)\n",
    "area  =  lado ** 2  \n",
    "dobro =  area * 2 \n",
    "print ( ' a area do quadrado é:', area,'mm²' )\n",
    "print ( ' o dobro do quadrado é:', dobro, 'mm²' )\n"
   ]
  },
  {
   "cell_type": "markdown",
   "id": "7283dcb0",
   "metadata": {},
   "source": [
    "Exercício 13 - Faça um Programa que pergunte quanto você ganha por hora e o número de horas trabalhadas no mês. Calcule e mostre o total do seu salário no referido mês."
   ]
  },
  {
   "cell_type": "code",
   "execution_count": 6,
   "id": "5eec303e",
   "metadata": {},
   "outputs": [
    {
     "name": "stdout",
     "output_type": "stream",
     "text": [
      " ganho por hora trabalhada: 14\n",
      " numero de horas trabalhadas: 220\n",
      "o seu salario é:R$  3080.0\n"
     ]
    }
   ],
   "source": [
    "hora = input(' ganho por hora trabalhada: ')\n",
    "hora = float (hora)\n",
    "num = input (' numero de horas trabalhadas: ')\n",
    "num = float (num)\n",
    "salario = hora * num \n",
    "print ( 'o seu salario é:R$ ', salario )"
   ]
  },
  {
   "cell_type": "markdown",
   "id": "4c795cac",
   "metadata": {},
   "source": [
    "Exercício 14 - Faça um Programa que peça a temperatura em graus Fahrenheit, transforme e mostre a temperatura em graus Celsius."
   ]
  },
  {
   "cell_type": "code",
   "execution_count": 26,
   "id": "cc6f8848",
   "metadata": {},
   "outputs": [
    {
     "name": "stdout",
     "output_type": "stream",
     "text": [
      " temperatura em Fahrenheit: 80\n",
      " a temperatura em Graus Celsius é:  26.666666666666664\n"
     ]
    }
   ],
   "source": [
    "Fahrenheit = input ( ' temperatura em Fahrenheit: ')\n",
    "Fahrenheit = float (Fahrenheit)\n",
    "graus  = (Fahrenheit - 32) / 1.8\n",
    "graus = float (graus)\n",
    "print(' a temperatura em Graus Celsius é: ', graus)\n"
   ]
  },
  {
   "cell_type": "markdown",
   "id": "9a7bb169",
   "metadata": {},
   "source": [
    "Exercício 15 - Faça um Programa que peça a temperatura em graus Celsius, transforme e mostre em graus Fahrenheit."
   ]
  },
  {
   "cell_type": "code",
   "execution_count": 27,
   "id": "399e9076",
   "metadata": {},
   "outputs": [
    {
     "name": "stdout",
     "output_type": "stream",
     "text": [
      " temperatura em graus: 26.6\n",
      " a temperatura em Fahrenheit é:  79.88\n"
     ]
    }
   ],
   "source": [
    "graus = input ( ' temperatura em graus: ')\n",
    "graus = float ( graus)\n",
    "Fahrenheit = (graus * 1.8) + 32\n",
    "Fahrenheit= float (Fahrenheit)\n",
    "print (' a temperatura em Fahrenheit é: ', Fahrenheit)"
   ]
  },
  {
   "cell_type": "code",
   "execution_count": null,
   "id": "82dffd18",
   "metadata": {},
   "outputs": [],
   "source": []
  }
 ],
 "metadata": {
  "kernelspec": {
   "display_name": "Python 3 (ipykernel)",
   "language": "python",
   "name": "python3"
  },
  "language_info": {
   "codemirror_mode": {
    "name": "ipython",
    "version": 3
   },
   "file_extension": ".py",
   "mimetype": "text/x-python",
   "name": "python",
   "nbconvert_exporter": "python",
   "pygments_lexer": "ipython3",
   "version": "3.10.9"
  }
 },
 "nbformat": 4,
 "nbformat_minor": 5
}

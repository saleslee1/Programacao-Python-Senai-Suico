{
 "cells": [
  {
   "cell_type": "markdown",
   "id": "3beb3aaa",
   "metadata": {},
   "source": [
    "### Exemplo 1 - For simples "
   ]
  },
  {
   "cell_type": "code",
   "execution_count": null,
   "id": "026471c2",
   "metadata": {},
   "outputs": [],
   "source": [
    "frutas = ['abacata','pera','abacaxi','Apos isso, finaliza o FOR'] #Lista\n",
    "\n",
    "for fruta in frutas:\n",
    "    print (fruta)\n",
    "print('Fim do FOR')"
   ]
  },
  {
   "cell_type": "markdown",
   "id": "c24cfe09",
   "metadata": {},
   "source": [
    "### Exemplo 2 - for e condicional"
   ]
  },
  {
   "cell_type": "code",
   "execution_count": null,
   "id": "5473601a",
   "metadata": {},
   "outputs": [],
   "source": [
    "frutas= ['abacate', 'pera', 'abacaxi']\n",
    "\n",
    "for fruta in frutas:\n",
    "    if fruta.startswith ('a'):\n",
    "        print (fruta)\n",
    "    \n",
    "print ('fim do for')"
   ]
  },
  {
   "cell_type": "markdown",
   "id": "4d2fb7e1",
   "metadata": {},
   "source": [
    "### Exercício 14 \n",
    "Faça um Programa que verifique se uma letra digitada é vogal ou consoante."
   ]
  },
  {
   "cell_type": "code",
   "execution_count": null,
   "id": "771120bf",
   "metadata": {},
   "outputs": [],
   "source": [
    "import sys\n",
    "\n",
    "vogais = ['a','e','i','o','u']\n",
    "\n",
    "letra_User = input('Digite uma letra: ')\n",
    "\n",
    "for letra in vogais:\n",
    "    if letra_User == letra:\n",
    "        print( 'É uma vogal')\n",
    "        sys.exit()#interrompe o código\n",
    "        print('Não é uma vogal')"
   ]
  },
  {
   "cell_type": "markdown",
   "id": "f6ee909d",
   "metadata": {},
   "source": [
    "### Exercício 06 \n",
    "Faça um programa que imprima na tela os números de 1 a 20, um abaixo do outro. Depois modifique o programa para que ele mostre os números um ao lado do outro."
   ]
  },
  {
   "cell_type": "code",
   "execution_count": null,
   "id": "88bff008",
   "metadata": {},
   "outputs": [],
   "source": [
    "numeros= ['1','2','3','4','5','6','7','8','9','10',\n",
    "          '11','12','13','14','15','16','17','18','19','20']\n",
    "\n",
    "for x in numeros:\n",
    "    print(x)"
   ]
  },
  {
   "cell_type": "code",
   "execution_count": null,
   "id": "491827b3",
   "metadata": {},
   "outputs": [],
   "source": [
    "\n",
    "lista= range (1,21)\n",
    "\n",
    "for x in lista:\n",
    "    print(x)"
   ]
  },
  {
   "cell_type": "code",
   "execution_count": null,
   "id": "b323ed11",
   "metadata": {},
   "outputs": [],
   "source": [
    "lista = range (1,21)\n",
    "numeros = []\n",
    "for x in lista:\n",
    "    numeros.append (x)\n",
    "    \n",
    "print(f'Foram adicionados {x} elementos à lista')\n",
    "print(numeros)"
   ]
  },
  {
   "cell_type": "markdown",
   "id": "d2973701",
   "metadata": {},
   "source": [
    "### Exercício 07 \n",
    "Faça um programa que leia 5 números e informe o maior número."
   ]
  },
  {
   "cell_type": "code",
   "execution_count": null,
   "id": "53e3891f",
   "metadata": {},
   "outputs": [],
   "source": [
    "controle= range(0,5)\n",
    "numeros=[]\n",
    "\n",
    "for x in controle:\n",
    "    num= int(input ('Digite um numero, please: '))\n",
    "    numeros.append (num)\n",
    "    \n",
    "maior = max( numeros)\n",
    "menor = min(numeros)\n",
    "\n",
    "print(f'O maior valor da lista é {maior} e o menor é {menor}.')"
   ]
  },
  {
   "cell_type": "markdown",
   "id": "6dd94155",
   "metadata": {},
   "source": [
    "### Exercício 08 \n",
    "Faça um programa que leia 5 números e informe a soma e a média dos números."
   ]
  },
  {
   "cell_type": "code",
   "execution_count": null,
   "id": "a5dcf9c1",
   "metadata": {},
   "outputs": [],
   "source": [
    "controle = range (0,5)\n",
    "numeros= []\n",
    "\n",
    "for x in controle:\n",
    "    num= int(input('digite um numero, please: '))\n",
    "    numeros.append (num)\n",
    "\n",
    "    "
   ]
  },
  {
   "cell_type": "markdown",
   "id": "071c8ef5",
   "metadata": {},
   "source": [
    "### Exercício 09 \n",
    "Faça um programa que imprima na tela apenas os números ímpares entre 1 e 50."
   ]
  },
  {
   "cell_type": "code",
   "execution_count": null,
   "id": "08c309a7",
   "metadata": {},
   "outputs": [],
   "source": [
    "lista= range(1,51)\n",
    "\n",
    "num= []\n",
    "for x in lista:\n",
    "        if x%2 !=0:\n",
    "            num.append(x)\n",
    "print(num)\n",
    "        "
   ]
  },
  {
   "cell_type": "markdown",
   "id": "ce4fa290",
   "metadata": {},
   "source": [
    "### Exercício 12 \n",
    "Desenvolva um gerador de tabuada, capaz de gerar a tabuada de qualquer número inteiro entre 1 a 10."
   ]
  },
  {
   "cell_type": "code",
   "execution_count": 7,
   "id": "1bb41b16",
   "metadata": {},
   "outputs": [
    {
     "name": "stdout",
     "output_type": "stream",
     "text": [
      " TABUADA \n",
      " Digite um valor ente 0 a 10 para gerar a tabuada6\n",
      "tabuada do numero 6\n",
      "6 X 1 = 6\n",
      "6 X 2 = 12\n",
      "6 X 3 = 18\n",
      "6 X 4 = 24\n",
      "6 X 5 = 30\n",
      "6 X 6 = 36\n",
      "6 X 7 = 42\n",
      "6 X 8 = 48\n",
      "6 X 9 = 54\n",
      "6 X 10 = 60\n"
     ]
    }
   ],
   "source": [
    "print( ' TABUADA ')\n",
    "num= int(input(' Digite um valor ente 0 a 10 para gerar a tabuada'))\n",
    "\n",
    "multiplicadores = range ( 1,11)\n",
    "print (f'tabuada do numero {num}')\n",
    "\n",
    "for x in multiplicadores:\n",
    "       \n",
    "    resultado = num * x \n",
    "    print(f'{num} X {x} = {resultado}')\n",
    "    "
   ]
  },
  {
   "cell_type": "code",
   "execution_count": null,
   "id": "552648ba",
   "metadata": {},
   "outputs": [],
   "source": []
  }
 ],
 "metadata": {
  "kernelspec": {
   "display_name": "Python 3 (ipykernel)",
   "language": "python",
   "name": "python3"
  },
  "language_info": {
   "codemirror_mode": {
    "name": "ipython",
    "version": 3
   },
   "file_extension": ".py",
   "mimetype": "text/x-python",
   "name": "python",
   "nbconvert_exporter": "python",
   "pygments_lexer": "ipython3",
   "version": "3.10.9"
  }
 },
 "nbformat": 4,
 "nbformat_minor": 5
}

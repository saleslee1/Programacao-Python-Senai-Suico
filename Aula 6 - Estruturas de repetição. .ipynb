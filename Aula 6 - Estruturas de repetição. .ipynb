{
 "cells": [
  {
   "cell_type": "markdown",
   "id": "ebd9f1cf",
   "metadata": {},
   "source": [
    "### Exercício 14\n",
    "Faça um programa que peça 10 números inteiros, calcule e mostre a\n",
    "quantidade de números pares e a quantidade de números ímpares."
   ]
  },
  {
   "cell_type": "code",
   "execution_count": null,
   "id": "87ad90a1",
   "metadata": {
    "scrolled": true
   },
   "outputs": [],
   "source": [
    "numeros = []\n",
    "\n",
    "i = 1\n",
    "\n",
    "while i <= 10:\n",
    "    \n",
    "    num = int(input('Digite o numero: '))\n",
    "    numeros.append(num)\n",
    "    \n",
    "    i = i + 1 \n",
    "#-------------------------------calcular a quantidade \n",
    "#_______________________________de numeros pares e impares\n",
    "par = 0\n",
    "impar = 0\n",
    "for x in numeros:\n",
    "    if x %2 == 0:\n",
    "        par = par + 1\n",
    "    else:\n",
    "        impar = impar + 1 \n",
    "print (f'Na lista {numeros}, ')\n",
    "print(f'foram localizados {par}numeros pares: ')\n",
    "print(f'foram localizados {impar} numeros impares: ')"
   ]
  },
  {
   "cell_type": "markdown",
   "id": "80cda62b",
   "metadata": {},
   "source": [
    "### Exercício 15 \n",
    "A série de Fibonacci é formada pela sequência 1,1,2,3,5,8,13,21,34,55,...\n",
    "Faça um programa capaz de gerar a série até o enésimo termo"
   ]
  },
  {
   "cell_type": "code",
   "execution_count": 3,
   "id": "663fc2d0",
   "metadata": {},
   "outputs": [
    {
     "name": "stdout",
     "output_type": "stream",
     "text": [
      "digite a qunatidade de termos a serem gerados: 90\n",
      "[1, 1, 2, 3, 5, 8, 13, 21, 34, 55, 89, 144, 233, 377, 610, 987, 1597, 2584, 4181, 6765, 10946, 17711, 28657, 46368, 75025, 121393, 196418, 317811, 514229, 832040, 1346269, 2178309, 3524578, 5702887, 9227465, 14930352, 24157817, 39088169, 63245986, 102334155, 165580141, 267914296, 433494437, 701408733, 1134903170, 1836311903, 2971215073, 4807526976, 7778742049, 12586269025, 20365011074, 32951280099, 53316291173, 86267571272, 139583862445, 225851433717, 365435296162, 591286729879, 956722026041, 1548008755920, 2504730781961, 4052739537881, 6557470319842, 10610209857723, 17167680177565, 27777890035288, 44945570212853, 72723460248141, 117669030460994, 190392490709135, 308061521170129, 498454011879264, 806515533049393, 1304969544928657, 2111485077978050, 3416454622906707, 5527939700884757, 8944394323791464, 14472334024676221, 23416728348467685, 37889062373143906, 61305790721611591, 99194853094755497, 160500643816367088, 259695496911122585, 420196140727489673, 679891637638612258, 1100087778366101931, 1779979416004714189, 2880067194370816120, 4660046610375530309, 7540113804746346429]\n"
     ]
    }
   ],
   "source": [
    "qtde_num = int(input('digite a qunatidade de termos a serem gerados: '))\n",
    "\n",
    "serieF = [1] # A serie Fibonaci sempre comeca com 1 \n",
    "\n",
    "i= 0 \n",
    "\n",
    "while i<= qtde_num: #repetir o bloco ate o valor de i ser igual a qtde_num\n",
    "    if serieF [0] == 1 and i == 0:\n",
    "        serieF.append(1)\n",
    "    else:\n",
    "        a = serieF[i] + serieF [ i-1]\n",
    "        serieF.append(a)\n",
    "        \n",
    "    i = i + 1 \n",
    "    \n",
    "print(serieF)\n",
    "               \n",
    "\n",
    "\n",
    "\n",
    "\n",
    "        "
   ]
  },
  {
   "cell_type": "markdown",
   "id": "78d41940",
   "metadata": {},
   "source": [
    "### Exercício 16 \n",
    "A série de Fibonacci é formada pela sequência\n",
    "0,1,1,2,3,5,8,13,21,34,55,... Faça um programa que gere a série até que o valor seja\n",
    "maior que 500."
   ]
  },
  {
   "cell_type": "code",
   "execution_count": 1,
   "id": "1d9685f4",
   "metadata": {},
   "outputs": [
    {
     "name": "stdout",
     "output_type": "stream",
     "text": [
      "digite a quantidade de termos a serem gerados: 500\n",
      "[1, 1, 2, 3, 5, 8, 13, 21, 34, 55, 89, 144, 233, 377]\n"
     ]
    }
   ],
   "source": [
    "qtde_num = int(input('digite a quantidade de termos a serem gerados: '))\n",
    "\n",
    "serieF = [1,1]\n",
    "\n",
    "while  serieF[-1] <=500: # verificar se o ultimo elemento é menor do que 500\n",
    "    \n",
    "    a = serieF[-1] + serieF[-2] #Somando o ultimo elemento + o penultimo elemento.\n",
    "    if a > 500:\n",
    "        break # Sair do laço de repetição.\n",
    "        \n",
    "    serieF.append(a)\n",
    "        \n",
    " \n",
    "print(serieF)\n",
    "        "
   ]
  },
  {
   "cell_type": "markdown",
   "id": "76424cfc",
   "metadata": {},
   "source": [
    "### Exercício 24 \n",
    "Faça um programa que calcule o mostre a média aritmética de N notas."
   ]
  },
  {
   "cell_type": "code",
   "execution_count": 14,
   "id": "de70d47b",
   "metadata": {},
   "outputs": [
    {
     "name": "stdout",
     "output_type": "stream",
     "text": [
      "Digita a nota: 6\n",
      "Digita a nota: 4\n",
      "Digita a nota: 5\n",
      "Digita a nota: 7\n",
      "Digita a nota: 1\n",
      "range(1, 6)\n"
     ]
    }
   ],
   "source": [
    "notas = range (1,6)\n",
    "numeros = []\n",
    "soma = 0\n",
    "for n in notas:\n",
    "    soma = n + soma \n",
    "    notas: float(input('Digita a nota: '))\n",
    "    numeros.append (notas)\n",
    "    \n",
    "    \n",
    "elemento = len(notas)\n",
    "media = round (soma / elemento,1)    \n",
    "        \n",
    "       \n",
    "        \n",
    "print(notas)\n",
    "    "
   ]
  },
  {
   "cell_type": "code",
   "execution_count": 13,
   "id": "d60cfd9e",
   "metadata": {},
   "outputs": [
    {
     "name": "stdout",
     "output_type": "stream",
     "text": [
      "digite a nota.( para sair digite s)3\n",
      "digite a nota.( para sair digite s)4\n",
      "digite a nota.( para sair digite s)5\n",
      "digite a nota.( para sair digite s)1\n",
      "digite a nota.( para sair digite s)s\n",
      "media dos valores é: 3.2\n"
     ]
    }
   ],
   "source": [
    "notas = []\n",
    "#_______________________________ solicitar notas.\n",
    "entrada = input('digite a nota.( para sair digite s)')\n",
    "\n",
    "while entrada.lower() != 's': # Enquanto nao for S, faca\n",
    "    \n",
    "    notas.append(float(entrada))\n",
    "    entrada = input('digite a nota.( para sair digite s)')\n",
    "\n",
    "\n",
    "\n",
    "\n",
    "#################### media \n",
    "soma = 0 \n",
    "for n in notas:\n",
    "    soma = n + soma \n",
    "    \n",
    "elementos = len(notas)\n",
    "media = round (soma /elementos,1)\n",
    "\n",
    "print(f'media dos valores é: {media}')\n"
   ]
  }
 ],
 "metadata": {
  "kernelspec": {
   "display_name": "Python 3 (ipykernel)",
   "language": "python",
   "name": "python3"
  },
  "language_info": {
   "codemirror_mode": {
    "name": "ipython",
    "version": 3
   },
   "file_extension": ".py",
   "mimetype": "text/x-python",
   "name": "python",
   "nbconvert_exporter": "python",
   "pygments_lexer": "ipython3",
   "version": "3.10.9"
  }
 },
 "nbformat": 4,
 "nbformat_minor": 5
}
